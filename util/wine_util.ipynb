{
 "cells": [
  {
   "cell_type": "code",
   "execution_count": null,
   "id": "b4eb8d35-652e-4045-82f6-88d9e659c7de",
   "metadata": {},
   "outputs": [],
   "source": [
    "%%writefile wine_util.py\n",
    "import pandas as pd\n",
    "\n",
    "# Function for replaceing all empty with na\n",
    "def replace_empty(df):\n",
    "    col = df.columns\n",
    "    for i in range(len(col)):\n",
    "        name = col[i]\n",
    "        df[name] = df[name].replace('', pd.NA)\n",
    "\n",
    "# Function that count all nah/na values\n",
    "def get_na_count(df):\n",
    "    col = df.columns\n",
    "    counts = {}\n",
    "    for i in range(len(col)):\n",
    "        name = col[i]\n",
    "        counts[name] = df[name].isna().sum()\n",
    "    return counts "
   ]
  }
 ],
 "metadata": {
  "kernelspec": {
   "display_name": "Python 3 (ipykernel)",
   "language": "python",
   "name": "python3"
  },
  "language_info": {
   "codemirror_mode": {
    "name": "ipython",
    "version": 3
   },
   "file_extension": ".py",
   "mimetype": "text/x-python",
   "name": "python",
   "nbconvert_exporter": "python",
   "pygments_lexer": "ipython3",
   "version": "3.11.5"
  }
 },
 "nbformat": 4,
 "nbformat_minor": 5
}
