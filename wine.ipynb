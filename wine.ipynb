{
 "cells": [
  {
   "cell_type": "markdown",
   "id": "5f08fb6c-b46f-436a-bc07-377b4448e17e",
   "metadata": {},
   "source": [
    "# Load the data"
   ]
  },
  {
   "cell_type": "code",
   "execution_count": null,
   "id": "bc3b53a8-2e3c-4a07-a7f8-2ca75eea613a",
   "metadata": {},
   "outputs": [],
   "source": [
    "# import pandas for structuring the data\n",
    "import pandas as pd\n",
    "\n",
    "# import numpy for numerical analysis\n",
    "import numpy as np\n",
    "\n",
    "# import os\n",
    "import os"
   ]
  },
  {
   "cell_type": "code",
   "execution_count": null,
   "id": "0e982fbb-88c9-4b13-af67-92974685b0ef",
   "metadata": {},
   "outputs": [],
   "source": [
    "# Getting path for both winequality-red.xlsx and winequality-white.xslx\n",
    "cwd = os.getcwd()\n",
    "data_path = cwd + '\\\\data\\\\'\n",
    "path_red = data_path + 'winequality-red.xlsx'\n",
    "path_white = data_path + 'winequality-white.xlsx'\n",
    "\n",
    "print(f'red : {path_red}')\n",
    "print(f'white : {path_white}')"
   ]
  },
  {
   "cell_type": "code",
   "execution_count": null,
   "id": "75540088-6315-4139-b4be-0b90ebf1db91",
   "metadata": {},
   "outputs": [],
   "source": [
    "df_red = pd.read_excel(path_red, na_values=['NA'], skiprows=[0])\n",
    "df_white = pd.read_excel(path_white, na_values=['NA'], skiprows=[0])"
   ]
  },
  {
   "cell_type": "code",
   "execution_count": null,
   "id": "437d0a7f-cdf0-466c-850f-16edac352b46",
   "metadata": {},
   "outputs": [],
   "source": [
    "df_red.sample(5)"
   ]
  },
  {
   "cell_type": "code",
   "execution_count": null,
   "id": "6fb8be18-25b2-4d20-88b3-f6dfbdcf997a",
   "metadata": {},
   "outputs": [],
   "source": [
    "df_white.sample(5)"
   ]
  },
  {
   "cell_type": "markdown",
   "id": "1cc649c0-6c02-4852-84b8-d1bc29c52218",
   "metadata": {},
   "source": [
    "### Clean Data In Both Files:  "
   ]
  },
  {
   "cell_type": "code",
   "execution_count": null,
   "id": "75891a85-15d2-4b52-bdfc-b4e08a649c0a",
   "metadata": {},
   "outputs": [],
   "source": [
    "# Checking the datasets for Null values\n",
    "print(f'White null sum for each col:\\n\\n{df_white.isnull().sum()}\\n-------------------------\\n')\n",
    "print(f'Red null sum for each col:\\n\\n{df_red.isnull().sum()}\\n')"
   ]
  },
  {
   "cell_type": "markdown",
   "id": "17a25ced-9323-4c68-ab9e-e13f143edbfd",
   "metadata": {},
   "source": [
    "Removing all empty cells and replacing them with na value and check how many na values each cell has."
   ]
  },
  {
   "cell_type": "code",
   "execution_count": null,
   "id": "a52f05b6-3ad2-47aa-9793-ca7f4026a3a4",
   "metadata": {},
   "outputs": [],
   "source": [
    "# import sys to get module from util dir.\n",
    "import sys\n",
    "sys.path.append('./util')\n",
    "\n",
    "# import own two fucntion replace_empty & get_na_count\n",
    "from wine_util import replace_empty, get_na_count"
   ]
  },
  {
   "cell_type": "code",
   "execution_count": null,
   "id": "bafb98ea-b457-4855-8a67-9733288782ff",
   "metadata": {},
   "outputs": [],
   "source": [
    "# Use replace_empty to remove empty cells\n",
    "replace_empty(df_red)"
   ]
  },
  {
   "cell_type": "code",
   "execution_count": null,
   "id": "0f407098-0d95-4865-83de-fd69aa84a6b9",
   "metadata": {},
   "outputs": [],
   "source": [
    "# Count all nah/na values\n",
    "na_count = get_na_count(df_red)\n",
    "for key, value in na_count.items():\n",
    "    print(f'{key} : {value}')"
   ]
  },
  {
   "cell_type": "code",
   "execution_count": null,
   "id": "06ac2b4b-c67c-47ec-ad6c-7561db9e99d5",
   "metadata": {},
   "outputs": [],
   "source": [
    "# Check both red & white's columns: 'free sulfur dioxide' & 'total sulfur dioxide'\n",
    "#  - if they actually needs to be folat. \n",
    "def check_float(series):\n",
    "    res = 0\n",
    "    for value in series:\n",
    "        if value % 1 != 0:\n",
    "            res = res + 1\n",
    "    return res\n",
    "        \n",
    "v = check_float(df_red['free sulfur dioxide'])\n",
    "v1 = check_float(df_red['total sulfur dioxide'])\n",
    "v2 = check_float(df_white['total sulfur dioxide'])\n",
    "v3 = check_float(df_white['free sulfur dioxide'])\n",
    "\n",
    "print(f'Red - \\'free sulfur dioxide\\' actual folats count: {v}')\n",
    "print(f'Red - \\'total sulfur dioxide\\' actual folats count: {v1}')\n",
    "print(f'White - \\'free sulfur dioxide\\' actual folats count: {v2}')\n",
    "print(f'White - \\'total sulfur dioxide\\' actual folats count: {v3}')"
   ]
  },
  {
   "cell_type": "code",
   "execution_count": null,
   "id": "717f27b9-7fdd-466c-8dc2-2ea1aef5bdeb",
   "metadata": {},
   "outputs": [],
   "source": [
    "# Changing data type from flaot to int:\n",
    "df_red['free sulfur dioxide'] = df_red['free sulfur dioxide'].astype(int)\n",
    "df_red['total sulfur dioxide'] = df_red['total sulfur dioxide'].astype(int)\n",
    "df_white['total sulfur dioxide'] = df_white['total sulfur dioxide'].astype(int)\n",
    "df_white['free sulfur dioxide'] = df_white['free sulfur dioxide'].astype(int)"
   ]
  },
  {
   "cell_type": "code",
   "execution_count": null,
   "id": "a78b0ac7-138c-4180-bfd0-a6afb52691ff",
   "metadata": {},
   "outputs": [],
   "source": [
    "df_red.sample(5)"
   ]
  },
  {
   "cell_type": "code",
   "execution_count": null,
   "id": "bf81b009-ca2e-4f9c-993a-54d093123d9e",
   "metadata": {
    "scrolled": true
   },
   "outputs": [],
   "source": [
    "df_white.sample(5)"
   ]
  },
  {
   "cell_type": "markdown",
   "id": "5ada80f8-a607-427e-8d58-024260e64f2e",
   "metadata": {},
   "source": [
    "### Aggregate the two files in one still keeping the identity of each wine- \"red\" or \"white\"."
   ]
  },
  {
   "cell_type": "code",
   "execution_count": null,
   "id": "a038fec9-ab1d-444a-9f94-f9c0a1e5e444",
   "metadata": {},
   "outputs": [],
   "source": [
    "# For each file red & white add a extra column 'wine_type'\n",
    "df_red['wine_type'] = 'red'\n",
    "df_white['wine_type'] = 'white'\n",
    "\n",
    "df_white['wine_type'] = df_white['wine_type'].astype('category')\n",
    "df_red['wine_type'] = df_red['wine_type'].astype('category')"
   ]
  },
  {
   "cell_type": "code",
   "execution_count": null,
   "id": "1867bf69-287f-48b6-a817-85920061c8d6",
   "metadata": {},
   "outputs": [],
   "source": [
    "# Verify if the two files have a wine_type column\n",
    "df_red.sample(5)"
   ]
  },
  {
   "cell_type": "code",
   "execution_count": null,
   "id": "52aea9c8-aaae-4dce-8ca8-fe72a3b21978",
   "metadata": {},
   "outputs": [],
   "source": [
    "df_white.sample(5)"
   ]
  },
  {
   "cell_type": "code",
   "execution_count": null,
   "id": "e745da3b-06e2-469e-b42b-aa1382b500e2",
   "metadata": {
    "scrolled": true
   },
   "outputs": [],
   "source": [
    "# Make a combined dataframe for the two files & verify them:\n",
    "combined_df = pd.concat([df_red, df_white], ignore_index=True)\n",
    "combined_df.sample(5)"
   ]
  },
  {
   "cell_type": "code",
   "execution_count": null,
   "id": "4e4c317f-a81f-41f3-98a4-eac2443dffb8",
   "metadata": {},
   "outputs": [],
   "source": [
    "# Save the new combineddataframe into a new CSV file\n",
    "combined_df.to_csv(data_path + \"combined_wine_data.csv\", index=False)"
   ]
  },
  {
   "cell_type": "markdown",
   "id": "9c45f036-cf2d-4b82-8711-0d5f98483768",
   "metadata": {},
   "source": [
    "# Explore The Data"
   ]
  },
  {
   "cell_type": "code",
   "execution_count": null,
   "id": "d638ff04-3e31-433a-bbbc-191b847c8d6d",
   "metadata": {},
   "outputs": [],
   "source": [
    "# Number of rows and columns:\n",
    "print(f'{df_red.shape}')\n",
    "print(f'{df_white.shape}')\n",
    "print(f'{combined_df.shape}')"
   ]
  },
  {
   "cell_type": "code",
   "execution_count": null,
   "id": "af30850b-e83d-4780-aad7-d8169206eda3",
   "metadata": {},
   "outputs": [],
   "source": [
    "# Type of data in each column\n",
    "print(f'White:\\n\\n{df_white.dtypes}\\n-------------------------\\n')\n",
    "print(f'Red:\\n\\n{df_red.dtypes}\\n-------------------------\\n')\n",
    "print(f'Combined:\\n\\n{combined_df.dtypes}')"
   ]
  },
  {
   "cell_type": "markdown",
   "id": "9c82cbf3-fea5-4772-b468-1110b48b6050",
   "metadata": {},
   "source": [
    "### Calculate the descriptive statistics of the numeric data. "
   ]
  },
  {
   "cell_type": "code",
   "execution_count": null,
   "id": "0dc36b8f-0b16-4f5f-b666-46eb1e3faadf",
   "metadata": {},
   "outputs": [],
   "source": [
    "# imoports for descriptive statistics\n",
    "import matplotlib.pyplot as plt\n",
    "import seaborn as sns\n",
    "from scipy import stats"
   ]
  },
  {
   "cell_type": "code",
   "execution_count": null,
   "id": "fc9f45a8-24d9-44a4-8526-3b79d2e28280",
   "metadata": {
    "scrolled": true
   },
   "outputs": [],
   "source": [
    "descriptive_stats = combined_df.describe()\n",
    "\n",
    "# Display descriptive statistics\n",
    "descriptive_stats"
   ]
  },
  {
   "cell_type": "code",
   "execution_count": null,
   "id": "96fead0b-5b89-4e39-a6c5-20c77a88692e",
   "metadata": {},
   "outputs": [],
   "source": [
    "# Function that can perform test for normality\n",
    "def test_normality(data):    \n",
    "    stat, p = stats.shapiro(data)\n",
    "    alpha = 0.05\n",
    "\n",
    "    mean = np.mean(data)\n",
    "    median = np.median(data)\n",
    "    mode = stats.mode(data)\n",
    "    \n",
    "    print(\"Shapiro-Wilk test:\")\n",
    "    print(\"p-value:\", p)\n",
    "    print(f\"mean: = {mean}, median: = {median}, mode: = {mode}\")\n",
    "    \n",
    "    if p > alpha:\n",
    "        print(\"Sample looks normally distributed (fail to reject H0) \\n\")\n",
    "    else:\n",
    "        print(\"Sample does not look normally distributed (reject H0) \\n\")"
   ]
  },
  {
   "cell_type": "code",
   "execution_count": null,
   "id": "5cddab55-3cb5-4c28-9305-dd280e787fb2",
   "metadata": {},
   "outputs": [],
   "source": [
    "import warnings\n",
    "warnings.filterwarnings(\"ignore\")\n",
    "\n",
    "# Plot histograms for numeric columns\n",
    "numeric_columns = combined_df.select_dtypes(include=['float64', 'int64']).columns\n",
    "\n",
    "for column in numeric_columns:\n",
    "\n",
    "    plt.figure(figsize=(8, 6))\n",
    "    sns.histplot(combined_df[column], kde=True)\n",
    "    plt.title(f'Histogram of {column}')\n",
    "    plt.xlabel(column)\n",
    "    plt.ylabel('Frequency')\n",
    "    plt.show()\n",
    "\n",
    "    test_normality(combined_df[column])"
   ]
  },
  {
   "cell_type": "code",
   "execution_count": null,
   "id": "dddeb99a-c016-4aff-be93-408a6d9de584",
   "metadata": {},
   "outputs": [],
   "source": [
    "# I do not appreciate after the test that none are normally distributed due to not being greater than alpha (0.05)"
   ]
  },
  {
   "cell_type": "markdown",
   "id": "b2ad20f1-00e4-4f66-a454-76d81b4eec69",
   "metadata": {},
   "source": [
    "### Plot diagrams that visualize the differences in red and white wine samples."
   ]
  },
  {
   "cell_type": "code",
   "execution_count": null,
   "id": "9639fad1-2af1-4e24-9cc8-017280551e43",
   "metadata": {},
   "outputs": [],
   "source": [
    "# Plot histograms for quality\n",
    "plt.figure(figsize=(10, 6))\n",
    "sns.histplot(df_red['quality'], color='red', alpha=0.5, label='Red Wine', kde=True)\n",
    "sns.histplot(df_white['quality'], color='blue', alpha=0.5, label='White Wine', kde=True)\n",
    "plt.title('Quality Comparison')\n",
    "plt.xlabel('Quality')\n",
    "plt.ylabel('Frequency')\n",
    "plt.legend()\n",
    "plt.show()"
   ]
  },
  {
   "cell_type": "code",
   "execution_count": null,
   "id": "bcef5012-f834-4bc4-bf50-9199ca908d7f",
   "metadata": {},
   "outputs": [],
   "source": [
    "# Plot histograms for alcohol content\n",
    "plt.figure(figsize=(10, 6))\n",
    "sns.histplot(df_red['alcohol'], color='red', alpha=0.5, label='Red Wine', kde=True)\n",
    "sns.histplot(df_white['alcohol'], color='blue', alpha=0.5, label='White Wine', kde=True)\n",
    "plt.title('Alcohol Content Comparison')\n",
    "plt.xlabel('Alcohol Content (%)')\n",
    "plt.ylabel('Frequency')\n",
    "plt.legend()\n",
    "plt.show()"
   ]
  },
  {
   "cell_type": "code",
   "execution_count": null,
   "id": "961f14ec-d348-4b09-8cdf-8d06a4e0a14f",
   "metadata": {},
   "outputs": [],
   "source": [
    "# Plot histograms for residual sugar\n",
    "plt.figure(figsize=(10, 6))\n",
    "sns.histplot(df_red['residual sugar'], color='red', alpha=0.5, label='Red Wine', kde=True)\n",
    "sns.histplot(df_white['residual sugar'], color='blue', alpha=0.5, label='White Wine', kde=True)\n",
    "plt.title('Residual Sugar Comparison')\n",
    "plt.xlabel('Residual Sugar (g/L)')\n",
    "plt.ylabel('Frequency')\n",
    "plt.legend()\n",
    "plt.show()"
   ]
  },
  {
   "cell_type": "markdown",
   "id": "0f420d6e-3703-4041-896a-dea648fce74c",
   "metadata": {},
   "source": [
    "#### What exactly is shown on the diagrams?\n",
    "\n",
    "* Shows the distribution of quality ratings for red and white wines\n",
    "* Shows the distribution of alcohol content for red and white wines.\n",
    "* Shows the distribution of residual sugar content for red and white wines.\n",
    "\n",
    "#### After seeing it, can you tell which type of wine has a higher average quality?\n",
    "* Looks like almost the same avg. however more then likely white is a little bigger do to the size of data.\n",
    "\n",
    "#### Which type of wine has a higher average level of alcohol?\n",
    "* White wine\n",
    "  \n",
    "#### Which one has a higher average quantity of residual sugar?\n",
    "* White wine\n",
    "\n",
    "#### Which other questions might be of interest for the wine consumers or distributers?\n",
    "* How do the acidity levels differ between red and white wines?\n",
    "* Are there differences in sulfur dioxide levels between red and white wines? "
   ]
  },
  {
   "cell_type": "markdown",
   "id": "422ddf9b-2d1d-45d7-b648-f35f09039113",
   "metadata": {},
   "source": [
    "### Split the aggregated data into five subsets by binning the attribute pH\n",
    "\n",
    "#### Split data into 5 subsets by binning pH values:"
   ]
  },
  {
   "cell_type": "code",
   "execution_count": null,
   "id": "644576d0-bfac-47e8-90ef-d333150cf8f4",
   "metadata": {},
   "outputs": [],
   "source": [
    "# Extracts the 'pH' column from the dataframe 'combined_df'\n",
    "pH_column = combined_df['pH']\n",
    "n_bins = 5\n",
    "\n",
    "# counts: It's an array where each element represents the count of data points in the corresponding bin\n",
    "# bin_edges: variable stores the edges of the bins used in the histogram\n",
    "counts, bin_edges = np.histogram(pH_column, bins = n_bins, density = True)"
   ]
  },
  {
   "cell_type": "code",
   "execution_count": null,
   "id": "a88a494f-91d2-42eb-aec5-946d4f768bb7",
   "metadata": {},
   "outputs": [],
   "source": [
    "print(counts)\n",
    "print(bin_edges)"
   ]
  },
  {
   "cell_type": "code",
   "execution_count": null,
   "id": "ea950494-dd66-42d9-be1e-38611540e658",
   "metadata": {},
   "outputs": [],
   "source": [
    "# This function calculates the densities for each subset. \n",
    "# It iterates over the bins, calculates the density for each bin,\n",
    "# and appends it to the s_densities\n",
    "\n",
    "def subset_densities(n_bins, counts, bin_edges):\n",
    "    s_densities = []\n",
    "    for i in range(n_bins):\n",
    "        s_density = counts[i] * np.diff(bin_edges)[i]\n",
    "        s_densities.append(s_density)\n",
    "    return s_densities\n",
    "\n",
    "subset_densities_five = subset_densities(n_bins, counts, bin_edges)"
   ]
  },
  {
   "cell_type": "code",
   "execution_count": null,
   "id": "45c1cb42-95c5-47e4-a8ef-b04ff9eb6b2a",
   "metadata": {},
   "outputs": [],
   "source": [
    "subset_densities_five"
   ]
  },
  {
   "cell_type": "code",
   "execution_count": null,
   "id": "112d10c4-4e9e-495c-9402-199f56af29a2",
   "metadata": {},
   "outputs": [],
   "source": [
    "# Identify the subset with the highest density\n",
    "\n",
    "# finds the index of the maximum density subset\n",
    "max_density_subset_index = np.argmax(subset_densities_five) "
   ]
  },
  {
   "cell_type": "code",
   "execution_count": null,
   "id": "333280fd-e247-4e2f-ba07-441a0e69465a",
   "metadata": {},
   "outputs": [],
   "source": [
    "# Extracts the range of pH values corresponding to the subset with the highest density.\n",
    "# It uses the bin edges to determine the range\n",
    "max_density_subset = (bin_edges[max_density_subset_index], bin_edges[max_density_subset_index + 1])"
   ]
  },
  {
   "cell_type": "code",
   "execution_count": null,
   "id": "ce5f0f78-257d-4477-9f43-5ba08d052331",
   "metadata": {},
   "outputs": [],
   "source": [
    "print(f\"Subset with the highest density for 5 subsets: pH range {max_density_subset}\")"
   ]
  },
  {
   "cell_type": "code",
   "execution_count": null,
   "id": "18b4128f-49e5-4263-bca7-684a6ebeee3c",
   "metadata": {},
   "outputs": [],
   "source": [
    "# Split data into 10 subsets by binning pH values:\n",
    "n_bins = 10\n",
    "counts, bin_edges = np.histogram(pH_column, bins = n_bins, density = True)"
   ]
  },
  {
   "cell_type": "code",
   "execution_count": null,
   "id": "51c8d53a-b9e5-4d79-84c9-da925c2cbaa5",
   "metadata": {},
   "outputs": [],
   "source": [
    "print(counts)\n",
    "print(bin_edges)"
   ]
  },
  {
   "cell_type": "code",
   "execution_count": null,
   "id": "0f07410d-8a96-4c5c-9516-adb062093640",
   "metadata": {},
   "outputs": [],
   "source": [
    "subset_densities_10 = subset_densities(n_bins, counts, bin_edges)"
   ]
  },
  {
   "cell_type": "code",
   "execution_count": null,
   "id": "2f115adc-0aba-46ce-91bf-9961670d709a",
   "metadata": {},
   "outputs": [],
   "source": [
    "subset_densities_10"
   ]
  },
  {
   "cell_type": "code",
   "execution_count": null,
   "id": "c22910fa-6500-44fb-82fe-665fe0fb5ae6",
   "metadata": {},
   "outputs": [],
   "source": [
    "max_density_subset_index = np.argmax(subset_densities_10)\n",
    "max_density_subset = (bin_edges[max_density_subset_index], bin_edges[max_density_subset_index + 1])\n",
    "\n",
    "print(f\"Subset with the highest density for 10 subsets: pH range {max_density_subset}\")"
   ]
  },
  {
   "cell_type": "markdown",
   "id": "6ff56e92-6516-450f-902f-e5fa6964620b",
   "metadata": {},
   "source": [
    "### Heat map & correlation matrix"
   ]
  },
  {
   "cell_type": "code",
   "execution_count": null,
   "id": "9251cace-ab69-4995-8d58-48f0c039a716",
   "metadata": {},
   "outputs": [],
   "source": [
    "data = combined_df\n",
    "data = data.drop(['wine_type'], axis=1)\n",
    "# Calculate the correlation matrix\n",
    "correlation_matrix = data.corr()\n",
    "correlation_matrix"
   ]
  },
  {
   "cell_type": "code",
   "execution_count": null,
   "id": "ca751567-a3e5-4523-8855-7156deb4adb2",
   "metadata": {},
   "outputs": [],
   "source": [
    "# Create a heatmap\n",
    "plt.figure(figsize=(10, 6))\n",
    "sns.heatmap(correlation_matrix, annot=True, fmt=\".3f\")\n",
    "plt.title(\"Combined - Red- & White Wine:\")\n",
    "plt.show()"
   ]
  },
  {
   "cell_type": "markdown",
   "id": "503eae37-8272-4811-96e8-d9bbe2554819",
   "metadata": {},
   "source": [
    "Can you tell which vine attribute has the biggest influence on the wine quality? \n",
    "* Alcohol (0.444)\n",
    "  \n",
    "Which has the lowest?\n",
    "* Density (-0.306)"
   ]
  },
  {
   "cell_type": "markdown",
   "id": "7d459ecb-7f64-4911-8b62-e3abeda4052d",
   "metadata": {},
   "source": [
    "#### Do you get the same results when you analyze the red and white wine data sets separately?"
   ]
  },
  {
   "cell_type": "code",
   "execution_count": null,
   "id": "45ee5aea-7629-48d2-8fc5-3d88f9729dce",
   "metadata": {},
   "outputs": [],
   "source": [
    "data_red = df_red.drop(['wine_type'], axis=1)\n",
    "data_white = df_white.drop(['wine_type'], axis=1)\n",
    "\n",
    "# Calculate the correlation matrix for red and white wine\n",
    "correlation_matrix_red = data_red.corr()\n",
    "correlation_matrix_white = data_white.corr()\n",
    "\n",
    "print('correlation_matrix_red\\n')\n",
    "correlation_matrix_red\n"
   ]
  },
  {
   "cell_type": "code",
   "execution_count": null,
   "id": "34f051f4-8103-4915-9748-5d6f30437fff",
   "metadata": {},
   "outputs": [],
   "source": [
    "print('correlation_matrix_white')\n",
    "correlation_matrix_white"
   ]
  },
  {
   "cell_type": "code",
   "execution_count": null,
   "id": "13cee268-5670-44c5-8f65-3cbd8e253e45",
   "metadata": {},
   "outputs": [],
   "source": [
    "# Create a heatmap\n",
    "plt.figure(figsize=(10, 6))\n",
    "sns.heatmap(correlation_matrix_red, annot=True, fmt=\".3f\")\n",
    "plt.title(\"Red Wine:\")\n",
    "plt.show()"
   ]
  },
  {
   "cell_type": "code",
   "execution_count": null,
   "id": "0c963b95-13dd-4c41-a871-32f20a343557",
   "metadata": {},
   "outputs": [],
   "source": [
    "# Create a heatmap\n",
    "plt.figure(figsize=(10, 6))\n",
    "sns.heatmap(correlation_matrix_white, annot=True, fmt=\".3f\")\n",
    "plt.title(\"White Wine:\")\n",
    "plt.show()"
   ]
  },
  {
   "cell_type": "markdown",
   "id": "c0f971d3-0a42-4449-9ce0-fb1739ec67d4",
   "metadata": {},
   "source": [
    "Do you get the same results when you analyze the red and white wine data sets separately?\n",
    "- Red wine:\n",
    "    * Biggest: same as when as combined (alcohol)\n",
    "    * Lowest: volatile acidity(-0.391)\n",
    "- White wine\n",
    "    * Biggest: same as when as combined (alcohol)\n",
    "    * Lowest: same as when as combined (density)"
   ]
  },
  {
   "cell_type": "markdown",
   "id": "ee456544-9d65-402d-9380-8e272ac463d3",
   "metadata": {},
   "source": [
    "### Explore the feature ‘residual sugar’."
   ]
  },
  {
   "cell_type": "code",
   "execution_count": null,
   "id": "bc2cf5d2-0921-4d56-acba-abefa0647ed7",
   "metadata": {},
   "outputs": [],
   "source": [
    "# Create a box plot to visualize the distribution of 'residual sugar'\n",
    "plt.figure(figsize=(8, 6))\n",
    "sns.boxplot(combined_df['residual sugar'])\n",
    "plt.title('Box Plot of Residual Sugar')\n",
    "plt.ylabel('Residual Sugar (g/L)')\n",
    "plt.show()"
   ]
  },
  {
   "cell_type": "code",
   "execution_count": null,
   "id": "b779a028-15d5-4f42-8cdd-ee24e06af2cb",
   "metadata": {},
   "outputs": [],
   "source": [
    "# The max biggest value in 'residual sugar': \n",
    "biggest_outlier_value = np.max(combined_df['residual sugar'])\n",
    "biggest_outlier_row = combined_df[combined_df['residual sugar'] == biggest_outlier_value].index[0]\n",
    "\n",
    "print(f'Value for the biggest outlier: {biggest_outlier_value}')\n",
    "print(f'Row for the biggest outlier: {biggest_outlier_row}')\n",
    "\n",
    "combined_df = combined_df.drop(biggest_outlier_row)"
   ]
  },
  {
   "cell_type": "markdown",
   "id": "709e8831-579d-48ef-838f-29de69976385",
   "metadata": {},
   "source": [
    "Is there any outlier (a value much different from the rest)? On which row is it found? Remove that row.\n",
    "- We can see from the box plot above that, we have an outlier which is much bigger like 65,8 (g/L)\n",
    "- Founded on row 4380"
   ]
  },
  {
   "cell_type": "markdown",
   "id": "523f3bb7-846e-4253-a5c2-dcdb89978136",
   "metadata": {},
   "source": [
    "### Identify the attribute with the lowest correlation to the wine quality"
   ]
  },
  {
   "cell_type": "code",
   "execution_count": null,
   "id": "e02f3cdb-8bcd-4cda-904c-5eccfe5170da",
   "metadata": {},
   "outputs": [],
   "source": [
    "# Find the column with the lowest correlation to wine quality\n",
    "lowest_corr_attribute = correlation_matrix['quality'].idxmin()\n",
    "\n",
    "print(\"Attribute with the lowest correlation to wine quality:\", lowest_corr_attribute)"
   ]
  },
  {
   "cell_type": "code",
   "execution_count": null,
   "id": "bf89e44c-3d4d-4843-a4eb-717d9a9b718f",
   "metadata": {},
   "outputs": [],
   "source": [
    "# Remove the column with the lowest correlation to wine quality\n",
    "data_filtered = combined_df.drop(lowest_corr_attribute, axis=1)\n",
    "data_filtered.sample(5)"
   ]
  },
  {
   "cell_type": "markdown",
   "id": "cbd170f2-2e88-491a-b02d-152809adf89d",
   "metadata": {},
   "source": [
    "### Transform the categorical data into numeric."
   ]
  },
  {
   "cell_type": "code",
   "execution_count": null,
   "id": "f6b611c4-0b5b-4d71-bee7-ca51161913b9",
   "metadata": {},
   "outputs": [],
   "source": [
    "# Get all the diff. types in a categori\n",
    "def get_types_col(col):\n",
    "    types = set({})\n",
    "    for val in col:\n",
    "        types.add(val)\n",
    "    return types\n",
    "\n",
    "# A way to see wive type go from 'white' and 'red' to 0 and 1: {'white': 0, 'red': 1}\n",
    "def changed(set):\n",
    "    numeric_id = 0\n",
    "    changed = {}\n",
    "    for type in set:\n",
    "        changed[type] = numeric_id\n",
    "        numeric_id = numeric_id + 1\n",
    "    return changed\n",
    "\n",
    "# values e.g {'white': 0, 'red': 1} so white becomes -> 0\n",
    "def to_numeric(col, values):\n",
    "    return col.map(values)\n",
    "\n",
    "    \n",
    "def categorical_to_numeric(df, col):\n",
    "    options = get_types_col(df[col])\n",
    "    changes = changed(options)\n",
    "    \n",
    "    df[col] = to_numeric(df[col], changes)\n",
    "\n",
    "    return df, changes\n",
    "\n",
    "combined_df, change_values = categorical_to_numeric(combined_df, 'wine_type')\n",
    "change_values"
   ]
  },
  {
   "cell_type": "code",
   "execution_count": null,
   "id": "a88d9928-ab59-475a-be7a-7b78a4545f2f",
   "metadata": {},
   "outputs": [],
   "source": [
    "combined_df.dtypes"
   ]
  },
  {
   "cell_type": "code",
   "execution_count": null,
   "id": "cbc6c6d5-3576-40f4-82f7-0c0c2f5b4b37",
   "metadata": {},
   "outputs": [],
   "source": [
    "combined_df.sample()"
   ]
  },
  {
   "cell_type": "markdown",
   "id": "41f15ed9-9264-4935-b85d-a9a647797025",
   "metadata": {},
   "source": [
    "### Try to reduce the number of features of the aggregated data set by applying principal component analysis (PCA)."
   ]
  },
  {
   "cell_type": "code",
   "execution_count": null,
   "id": "f224e80a-daad-4131-a24c-8ae37ddb2b18",
   "metadata": {},
   "outputs": [],
   "source": [
    "from sklearn import preprocessing as prep"
   ]
  },
  {
   "cell_type": "code",
   "execution_count": null,
   "id": "7aa4cf20-2719-43a3-92d6-ec6f51954a56",
   "metadata": {},
   "outputs": [],
   "source": [
    "# Convert 'combined_df' into an array:\n",
    "arr = combined_df.values\n",
    "arr"
   ]
  },
  {
   "cell_type": "code",
   "execution_count": null,
   "id": "4c1e2704-74e4-44be-ad70-a6599b59112d",
   "metadata": {
    "scrolled": true
   },
   "outputs": [],
   "source": [
    "# Plot the data\n",
    "plt.figure()\n",
    "plt.title('Input data')\n",
    "\n",
    "# Range of coordinates:\n",
    "x_min, x_max = arr[:, 0].min() - 1, arr[:, 0].max() + 1\n",
    "y_min, y_max = arr[:, 1].min() - 1, arr[:, 1].max() + 1\n",
    "\n",
    "# Plot coordinates:\n",
    "plt.xlim(x_min, x_max)\n",
    "plt.ylim(y_min, y_max)\n",
    "\n",
    "# Plot the points:\n",
    "plt.scatter(arr[:,0], arr[:,1], color='black', s=80, marker='o', facecolors='none')\n",
    "\n",
    "plt.show()"
   ]
  },
  {
   "cell_type": "code",
   "execution_count": null,
   "id": "c4e4908c-7bbf-4db5-a9f5-5324a9059a6a",
   "metadata": {},
   "outputs": [],
   "source": [
    "nl1 = prep.normalize(arr, norm='l1')\n",
    "nl1"
   ]
  },
  {
   "cell_type": "code",
   "execution_count": null,
   "id": "1f492a83-e182-4c18-b602-157400d26691",
   "metadata": {},
   "outputs": [],
   "source": [
    "nl2 = prep.normalize(arr, norm='l2')\n",
    "nl2"
   ]
  },
  {
   "cell_type": "code",
   "execution_count": null,
   "id": "dbf40c06-2471-455f-a5b3-79f01cb8feae",
   "metadata": {},
   "outputs": [],
   "source": [
    "from sklearn.preprocessing import StandardScaler\n",
    "sc = StandardScaler()  \n",
    "arr = sc.fit_transform(arr)  \n",
    "arr"
   ]
  },
  {
   "cell_type": "code",
   "execution_count": null,
   "id": "28d0861a-8a7b-49b0-8546-fe617f3a0711",
   "metadata": {},
   "outputs": [],
   "source": [
    "from sklearn.decomposition import PCA"
   ]
  },
  {
   "cell_type": "code",
   "execution_count": null,
   "id": "ed796071-aa0a-4a45-ae7b-962f08c8b196",
   "metadata": {},
   "outputs": [],
   "source": [
    "n_components = 4\n",
    "\n",
    "pca = PCA(n_components)\n",
    "\n",
    "pca_data = pca.fit_transform(arr)\n",
    "pca_data"
   ]
  },
  {
   "cell_type": "code",
   "execution_count": null,
   "id": "8579ea5f-186c-40dd-9f60-309d8d6b772c",
   "metadata": {},
   "outputs": [],
   "source": [
    "# Convert PCA result to DataFrame\n",
    "pca_df = pd.DataFrame(data=pca_data, columns=['pc 1', 'pc 2', 'pc 3', 'pc 4'])\n",
    "\n",
    "# Display the reduced dimensionality DataFrame\n",
    "print(pca_df.head())"
   ]
  },
  {
   "cell_type": "code",
   "execution_count": null,
   "id": "50e07740-e222-4025-8847-2929601e03ee",
   "metadata": {},
   "outputs": [],
   "source": [
    "explained_variance = pca.explained_variance_ratio_  \n",
    "explained_variance"
   ]
  },
  {
   "cell_type": "code",
   "execution_count": null,
   "id": "c9d28bce-63e1-4e43-8259-95fb2a6bff83",
   "metadata": {},
   "outputs": [],
   "source": [
    "plt.plot(explained_variance, 'bx-', c='red')\n",
    "plt.xlabel('component')\n",
    "plt.ylabel('variance')\n",
    "plt.title('The optimal number of components')\n",
    "plt.show()"
   ]
  },
  {
   "cell_type": "code",
   "execution_count": null,
   "id": "bdb23b64-33ac-4537-b1ea-f706d3db47c9",
   "metadata": {},
   "outputs": [],
   "source": [
    "cumulative = np.cumsum(explained_variance)\n",
    "plt.plot(cumulative, 'b*-', c='green')\n",
    "plt.xlabel('components')\n",
    "plt.ylabel('cumulative')\n",
    "plt.title('The optimal number of components')\n",
    "plt.show()"
   ]
  },
  {
   "cell_type": "markdown",
   "id": "c599f4ce-ba19-4e80-b8c4-30f7d047a482",
   "metadata": {},
   "source": [
    "What is the optimal number of components?\n",
    "* Variance - Optimal 2 when look at elbow visualization in the plot.\n",
    "* Cumulative - Optimal 2 where the curve starts to level off."
   ]
  },
  {
   "cell_type": "markdown",
   "id": "1f902b15-d6fc-485b-9c36-9e2a429b4d50",
   "metadata": {},
   "source": [
    "### Print out ten random rows from the final dataset"
   ]
  },
  {
   "cell_type": "code",
   "execution_count": null,
   "id": "d80a1603-9c14-4790-925b-e24bda3a28f1",
   "metadata": {},
   "outputs": [],
   "source": [
    "print(pca_df.sample(n=10))"
   ]
  }
 ],
 "metadata": {
  "kernelspec": {
   "display_name": "Python 3 (ipykernel)",
   "language": "python",
   "name": "python3"
  },
  "language_info": {
   "codemirror_mode": {
    "name": "ipython",
    "version": 3
   },
   "file_extension": ".py",
   "mimetype": "text/x-python",
   "name": "python",
   "nbconvert_exporter": "python",
   "pygments_lexer": "ipython3",
   "version": "3.11.5"
  }
 },
 "nbformat": 4,
 "nbformat_minor": 5
}
