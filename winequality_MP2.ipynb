{
 "cells": [
  {
   "cell_type": "markdown",
   "id": "3b1904db",
   "metadata": {},
   "source": [
    "# Wine Data analysis"
   ]
  },
  {
   "cell_type": "code",
   "execution_count": null,
   "id": "b47ebc94",
   "metadata": {},
   "outputs": [],
   "source": [
    "import pandas as pd\n",
    "import numpy as np\n",
    "from scipy import stats\n",
    "import matplotlib.pyplot as plt\n",
    "import seaborn as sns\n",
    "from sklearn import metrics\n",
    "from sklearn.cluster import KMeans\n",
    "from scipy.spatial.distance import cdist\n",
    "from sklearn import preprocessing as prep\n",
    "from sklearn.preprocessing import StandardScaler\n",
    "\n",
    "\n",
    "redwine_data = 'data/winequality-red.xlsx'\n",
    "whitewine_data = 'data/winequality-white.xlsx'"
   ]
  },
  {
   "cell_type": "code",
   "execution_count": null,
   "id": "f2e0060b",
   "metadata": {},
   "outputs": [],
   "source": [
    "df_white = pd.read_excel(whitewine_data, skiprows=0, header=1, na_values='NA')\n",
    "df_red = pd.read_excel(redwine_data, skiprows=0, header=1, na_values='NA')\n",
    "\n",
    "df_white"
   ]
  },
  {
   "cell_type": "markdown",
   "id": "e3ec03c9",
   "metadata": {},
   "source": [
    "## Data cleaning"
   ]
  },
  {
   "cell_type": "code",
   "execution_count": null,
   "id": "b45bd5c5",
   "metadata": {},
   "outputs": [],
   "source": [
    "\n",
    "df_white.isnull().sum()"
   ]
  },
  {
   "cell_type": "code",
   "execution_count": null,
   "id": "824ec87e",
   "metadata": {},
   "outputs": [],
   "source": [
    "df_white.describe()"
   ]
  },
  {
   "cell_type": "code",
   "execution_count": null,
   "id": "8fc7f99d",
   "metadata": {},
   "outputs": [],
   "source": [
    "df_white.sample(5)"
   ]
  },
  {
   "cell_type": "code",
   "execution_count": null,
   "id": "901abfac",
   "metadata": {},
   "outputs": [],
   "source": [
    "df_white.dtypes"
   ]
  },
  {
   "cell_type": "markdown",
   "id": "fd160885",
   "metadata": {},
   "source": [
    "### Remove outliers based on high std"
   ]
  },
  {
   "cell_type": "code",
   "execution_count": null,
   "id": "470f8c27",
   "metadata": {},
   "outputs": [],
   "source": [
    "z_sulf = np.abs(stats.zscore(df_white['free sulfur dioxide']))\n",
    "z_sulf_outliers = z_sulf[z_sulf >= 3]\n",
    "z_sulf_outliers"
   ]
  },
  {
   "cell_type": "code",
   "execution_count": null,
   "id": "a341b6f4",
   "metadata": {},
   "outputs": [],
   "source": [
    "# Drop rowas with high z-score across all features\n",
    "df_white = df_white[(np.abs(stats.zscore(df_white)) < 3).all(axis=1)]\n",
    "df_white\n",
    "# 634 rows have been dropped"
   ]
  },
  {
   "cell_type": "markdown",
   "id": "2f6e1e20",
   "metadata": {},
   "source": [
    "## Do the same with red wine data"
   ]
  },
  {
   "cell_type": "code",
   "execution_count": null,
   "id": "589b7c4b",
   "metadata": {},
   "outputs": [],
   "source": [
    "df_red.shape\n",
    "# (1599, 12)"
   ]
  },
  {
   "cell_type": "code",
   "execution_count": null,
   "id": "fa646e2e",
   "metadata": {},
   "outputs": [],
   "source": [
    "df_red.isnull().sum()"
   ]
  },
  {
   "cell_type": "code",
   "execution_count": null,
   "id": "c7dc6479",
   "metadata": {},
   "outputs": [],
   "source": [
    "df_white.describe()"
   ]
  },
  {
   "cell_type": "code",
   "execution_count": null,
   "id": "2885caa3",
   "metadata": {},
   "outputs": [],
   "source": [
    "df_red.dtypes"
   ]
  },
  {
   "cell_type": "code",
   "execution_count": null,
   "id": "bade5ce6",
   "metadata": {},
   "outputs": [],
   "source": [
    "z_sulf = np.abs(stats.zscore(df_red['free sulfur dioxide']))\n",
    "z_sulf_outliers = z_sulf[z_sulf >= 3]\n",
    "z_sulf_outliers"
   ]
  },
  {
   "cell_type": "code",
   "execution_count": null,
   "id": "84bc8c6b",
   "metadata": {},
   "outputs": [],
   "source": [
    "# Drop rows with high z-score\n",
    "df_red = df_red[(np.abs(stats.zscore(df_red)) < 3).all(axis=1)]\n",
    "df_red\n",
    "# 50 rows have been dropped"
   ]
  },
  {
   "cell_type": "markdown",
   "id": "eede40ea",
   "metadata": {},
   "source": [
    "## Combine dataframes"
   ]
  },
  {
   "cell_type": "code",
   "execution_count": null,
   "id": "ab02a004",
   "metadata": {},
   "outputs": [],
   "source": [
    "df_white['color'] = 'white'\n",
    "df_white"
   ]
  },
  {
   "cell_type": "code",
   "execution_count": null,
   "id": "aaa58608",
   "metadata": {},
   "outputs": [],
   "source": [
    "df_red['color'] = 'red'\n",
    "df_red"
   ]
  },
  {
   "cell_type": "code",
   "execution_count": null,
   "id": "efed65d8",
   "metadata": {},
   "outputs": [],
   "source": [
    "df_combined = pd.concat([df_red, df_white], ignore_index=True)\n",
    "df_combined"
   ]
  },
  {
   "cell_type": "markdown",
   "id": "f336ffa2",
   "metadata": {},
   "source": [
    "## Data exploration"
   ]
  },
  {
   "cell_type": "code",
   "execution_count": null,
   "id": "62eb4191",
   "metadata": {
    "scrolled": true
   },
   "outputs": [],
   "source": [
    "df_combined.dtypes"
   ]
  },
  {
   "cell_type": "code",
   "execution_count": null,
   "id": "d6e4a558",
   "metadata": {},
   "outputs": [],
   "source": [
    "df_combined.shape"
   ]
  },
  {
   "cell_type": "code",
   "execution_count": null,
   "id": "afe3e114",
   "metadata": {
    "scrolled": true
   },
   "outputs": [],
   "source": [
    "df_combined.describe()"
   ]
  },
  {
   "cell_type": "code",
   "execution_count": null,
   "id": "ac10cb0a",
   "metadata": {},
   "outputs": [],
   "source": [
    "# here we see the median25th and 75th percentiles, the range, and the outliers\n",
    "df_combined['total sulfur dioxide'].plot.box()"
   ]
  },
  {
   "cell_type": "code",
   "execution_count": null,
   "id": "f0d130cb",
   "metadata": {},
   "outputs": [],
   "source": [
    "df_combined['free sulfur dioxide'].plot.box()"
   ]
  },
  {
   "cell_type": "markdown",
   "id": "f40ed7ef",
   "metadata": {},
   "source": [
    "As we can see, the standard deviation is relatively small on most features. The features with higher STD f.ex 'free sulfur dioxide' has a few outliers in the upper end, but nothing serious.\n",
    "Generally the data has normal distribution"
   ]
  },
  {
   "cell_type": "markdown",
   "id": "2dbc4ace",
   "metadata": {},
   "source": [
    "### Comparing white and red"
   ]
  },
  {
   "cell_type": "code",
   "execution_count": null,
   "id": "3a89a971",
   "metadata": {},
   "outputs": [],
   "source": [
    "# Convert color to category\n",
    "df_combined[\"color\"] = df_combined[\"color\"].astype('category')\n",
    "df_combined.dtypes"
   ]
  },
  {
   "cell_type": "code",
   "execution_count": null,
   "id": "7d7cce39",
   "metadata": {},
   "outputs": [],
   "source": [
    "df_combined.boxplot(column=['fixed acidity', 'residual sugar', 'alcohol', 'quality'], by='color')"
   ]
  },
  {
   "cell_type": "markdown",
   "id": "d74b02b7",
   "metadata": {},
   "source": [
    "From these plots we can see that red wines tend to have slighty more acidity, and white wines seems to usually have around the same acidity.\n",
    "White wine seems to have a wide range of sugar amounts and a higher average, and red wines usually seem to have lower sugar content\n",
    "Alcohol percentage seems to be around the same distribution for both types, which is around 10% in median. The white wine average seems to be slightly higher.\n",
    "\n",
    "The overall quality seems to be around the same distribution for both types.\n"
   ]
  },
  {
   "cell_type": "code",
   "execution_count": null,
   "id": "8d161aa0",
   "metadata": {},
   "outputs": [],
   "source": [
    "# Here we see an expected correlation between free sulfur and total sulfur\n",
    "df_combined.plot.scatter(x='free sulfur dioxide', y='total sulfur dioxide', figsize=(6, 6))"
   ]
  },
  {
   "cell_type": "markdown",
   "id": "a51b535a",
   "metadata": {},
   "source": [
    "Here is an interesting correlation between the alcohol percentage and the density of the wine.\n",
    "The points are seperated in colors, showing us that red wine seems to have a higher overall density than white wine, which might be interesting to businesses or customers"
   ]
  },
  {
   "cell_type": "code",
   "execution_count": null,
   "id": "6a5c5ec9",
   "metadata": {},
   "outputs": [],
   "source": [
    "white = df_combined[df_combined['color'] == 'white']\n",
    "red = df_combined[df_combined['color'] == 'red']\n",
    "\n",
    "plt.scatter(white['alcohol'], white['density'], color='green', label='white')\n",
    "plt.scatter(red['alcohol'], red['density'], color='red', label='red')\n",
    "\n",
    "plt.xlabel('Alcohol')\n",
    "plt.ylabel('Density')\n",
    "plt.legend()"
   ]
  },
  {
   "cell_type": "code",
   "execution_count": null,
   "id": "69dde138",
   "metadata": {},
   "outputs": [],
   "source": []
  },
  {
   "cell_type": "markdown",
   "id": "1cd15910",
   "metadata": {},
   "source": [
    "### Creating subsets"
   ]
  },
  {
   "cell_type": "code",
   "execution_count": null,
   "id": "69ad33fd",
   "metadata": {},
   "outputs": [],
   "source": [
    "bin_data = df_combined[['pH']]\n",
    "bin_data['color'] = df_combined['color']"
   ]
  },
  {
   "cell_type": "code",
   "execution_count": null,
   "id": "98c0ea0e",
   "metadata": {},
   "outputs": [],
   "source": [
    "bin_data['pH_bin'] = pd.cut(df_combined['pH'], bins=[0, 2.9, 3.1, 3.3, 3.5, 3.8], labels=[\"Low\", \"Low-Mid\", \"Mid\", \"High-Mid\", \"High\"])\n",
    "bin_data"
   ]
  },
  {
   "cell_type": "markdown",
   "id": "3584788d",
   "metadata": {},
   "source": [
    "Here we can see that most of the wines have a pH value between 3.1and 3.3"
   ]
  },
  {
   "cell_type": "code",
   "execution_count": null,
   "id": "bf61eeaa",
   "metadata": {},
   "outputs": [],
   "source": [
    "bin_data['pH_bin'].value_counts().plot(kind='bar')"
   ]
  },
  {
   "cell_type": "markdown",
   "id": "32c80ee9",
   "metadata": {},
   "source": [
    "### Correlation"
   ]
  },
  {
   "cell_type": "code",
   "execution_count": null,
   "id": "9a62299a",
   "metadata": {},
   "outputs": [],
   "source": [
    "df_cat_num = df_combined\n",
    "df_cat_num[\"color_cat\"] = df_combined[\"color\"].cat.codes\n",
    "df_cat_num = df_cat_num.drop(['color'], axis=1)"
   ]
  },
  {
   "cell_type": "code",
   "execution_count": null,
   "id": "5dd2cc22",
   "metadata": {},
   "outputs": [],
   "source": [
    "df_corr = df_cat_num.corr()\n",
    "df_corr"
   ]
  },
  {
   "cell_type": "markdown",
   "id": "c0ded309",
   "metadata": {},
   "source": [
    "In this heatmap, we can see the strong negative correlation between alchohol and density.\n",
    "We can also see that the quality of the wine doesn't strongly correlate to anything, but correlates partly to density, volatile acidity, chlorides and alcohol percentage"
   ]
  },
  {
   "cell_type": "code",
   "execution_count": null,
   "id": "d9f00f05",
   "metadata": {},
   "outputs": [],
   "source": [
    "sns.heatmap(df_corr, annot=False, square=True)"
   ]
  },
  {
   "cell_type": "markdown",
   "id": "ecec9322",
   "metadata": {},
   "source": [
    "Lets split it up into its categories:"
   ]
  },
  {
   "cell_type": "code",
   "execution_count": null,
   "id": "9d0b5c0b",
   "metadata": {},
   "outputs": [],
   "source": [
    "df_cat_num_white = white\n",
    "df_cat_num_white[\"color_cat\"] = white[\"color\"].cat.codes\n",
    "df_cat_num_white = df_cat_num_white.drop(['color'], axis=1)\n",
    "\n",
    "df_cat_num_red = red\n",
    "df_cat_num_red[\"color_cat\"] = red[\"color\"].cat.codes\n",
    "df_cat_num_red = df_cat_num_red.drop(['color'], axis=1)"
   ]
  },
  {
   "cell_type": "code",
   "execution_count": null,
   "id": "7cbf0eef",
   "metadata": {},
   "outputs": [],
   "source": [
    "df_corr_white = df_cat_num_white.corr()\n",
    "df_corr_red = df_cat_num_red.corr()"
   ]
  },
  {
   "cell_type": "markdown",
   "id": "1ec0f251",
   "metadata": {},
   "source": [
    "White wine correlation map:"
   ]
  },
  {
   "cell_type": "code",
   "execution_count": null,
   "id": "3f7e91cc",
   "metadata": {},
   "outputs": [],
   "source": [
    "sns.heatmap(df_corr_white, annot=False, square=True)"
   ]
  },
  {
   "cell_type": "markdown",
   "id": "c5a6649c",
   "metadata": {},
   "source": [
    "Red wine correlation map:"
   ]
  },
  {
   "cell_type": "code",
   "execution_count": null,
   "id": "2333e534",
   "metadata": {},
   "outputs": [],
   "source": [
    "sns.heatmap(df_corr_red, annot=False, square=True)"
   ]
  },
  {
   "cell_type": "markdown",
   "id": "48fd98f4",
   "metadata": {},
   "source": [
    "Funnily enough, it seems that the acidity correlates more to pH value in white wines than in red wines.\n",
    "The white wines seem to have a stronger correlation between alchohol and density than red wine.\n",
    "In white wines, it seems that the quality of the wine correlates most with density and chlorides,\n",
    "and red wines quality seems to correlate closer to the pH value and sulphates of the wine."
   ]
  },
  {
   "cell_type": "markdown",
   "id": "44e1c9cc",
   "metadata": {},
   "source": [
    "## Preparing data for further analysis"
   ]
  },
  {
   "cell_type": "code",
   "execution_count": null,
   "id": "610a2658",
   "metadata": {},
   "outputs": [],
   "source": [
    "# checking for outliers\n",
    "df_combined['residual sugar'].plot.box()"
   ]
  },
  {
   "cell_type": "code",
   "execution_count": null,
   "id": "e1c4925a",
   "metadata": {},
   "outputs": [],
   "source": [
    "df_combined['residual sugar'].max()"
   ]
  },
  {
   "cell_type": "code",
   "execution_count": null,
   "id": "d0258ca6",
   "metadata": {},
   "outputs": [],
   "source": [
    "# 2 outlier rows\n",
    "df_combined.loc[(df_combined['residual sugar'] == df_combined['residual sugar'].max())]"
   ]
  },
  {
   "cell_type": "code",
   "execution_count": null,
   "id": "2fe0f451",
   "metadata": {},
   "outputs": [],
   "source": [
    "df_combined = df_combined.drop([1859, 4845])"
   ]
  },
  {
   "cell_type": "code",
   "execution_count": null,
   "id": "674b3f69",
   "metadata": {},
   "outputs": [],
   "source": [
    "# Get index of feature least correlating with quality\n",
    "min_corr_column = df_corr['quality'].abs().idxmin()\n",
    "min_corr_column"
   ]
  },
  {
   "cell_type": "code",
   "execution_count": null,
   "id": "e1418823",
   "metadata": {},
   "outputs": [],
   "source": [
    "df_combined = df_combined.drop(['pH', 'color'], axis=1)\n",
    "df_combined"
   ]
  },
  {
   "cell_type": "code",
   "execution_count": null,
   "id": "af2f0d2a",
   "metadata": {},
   "outputs": [],
   "source": [
    "df_combined = df_combined.drop(['color'], axis=1)"
   ]
  },
  {
   "cell_type": "markdown",
   "id": "26794330",
   "metadata": {},
   "source": [
    "## PCA"
   ]
  },
  {
   "cell_type": "code",
   "execution_count": null,
   "id": "502f789f",
   "metadata": {},
   "outputs": [],
   "source": [
    "X = df_combined.values\n",
    "X"
   ]
  },
  {
   "cell_type": "code",
   "execution_count": null,
   "id": "f787d2b7",
   "metadata": {},
   "outputs": [],
   "source": [
    "plt.figure()\n",
    "plt.title('Input data')\n",
    "\n",
    "# calculate the range of coordinates\n",
    "x_min, x_max = X[:, 0].min() - 1, X[:, 0].max() + 1\n",
    "y_min, y_max = X[:, 1].min() - 1, X[:, 1].max() + 1\n",
    "\n",
    "# plot coordinates\n",
    "plt.xlim(x_min, x_max)\n",
    "plt.ylim(y_min, y_max)\n",
    "\n",
    "# plot the points\n",
    "plt.scatter(X[:,0], X[:,1], color='black', s=80, marker='o', facecolors='none')\n",
    "\n",
    "plt.show()"
   ]
  },
  {
   "cell_type": "code",
   "execution_count": null,
   "id": "01dfbcff",
   "metadata": {},
   "outputs": [],
   "source": [
    "# Method L1: Least Absolute Deviation\n",
    "# if we add the normalized values in each row, the sum of the new values is always 1\n",
    "nl1 = prep.normalize(X, norm='l1')\n",
    "nl1\n"
   ]
  },
  {
   "cell_type": "code",
   "execution_count": null,
   "id": "59da1075",
   "metadata": {},
   "outputs": [],
   "source": [
    "sc = StandardScaler()\n",
    "X = nl1\n",
    "X = sc.fit_transform(X)  \n",
    "X"
   ]
  },
  {
   "cell_type": "code",
   "execution_count": null,
   "id": "09c47ca4",
   "metadata": {},
   "outputs": [],
   "source": [
    "from sklearn.decomposition import PCA\n",
    "pca = PCA(n_components=4)\n",
    "pca_data = pca.fit_transform(X)\n",
    "pca_data"
   ]
  },
  {
   "cell_type": "code",
   "execution_count": null,
   "id": "89dc27c4",
   "metadata": {},
   "outputs": [],
   "source": [
    "pcadf = pd.DataFrame(data = pca_data, columns = ['pc 1', 'pc 2', 'pc 3', 'pc 4'])\n",
    "pcadf"
   ]
  },
  {
   "cell_type": "code",
   "execution_count": null,
   "id": "33623ceb",
   "metadata": {},
   "outputs": [],
   "source": [
    "# first principal component 29% variance\n",
    "explained_variance = pca.explained_variance_ratio_  \n",
    "explained_variance"
   ]
  },
  {
   "cell_type": "code",
   "execution_count": null,
   "id": "031e9f62",
   "metadata": {},
   "outputs": [],
   "source": [
    "# Plot the explained_variance\n",
    "plt.plot(explained_variance, 'bx-', c='red')\n",
    "plt.xlabel('component')\n",
    "plt.ylabel('variance')\n",
    "plt.title('The optimal number of components')\n",
    "plt.show()"
   ]
  },
  {
   "cell_type": "code",
   "execution_count": null,
   "id": "5f5aacd7",
   "metadata": {},
   "outputs": [],
   "source": [
    "# Plot the cumulative explained_variance\n",
    "cumulative = np.cumsum(explained_variance)\n",
    "plt.plot(cumulative, 'b*-', c='green')\n",
    "plt.xlabel('components')\n",
    "plt.ylabel('cumulative')\n",
    "plt.title('The optimal number of components')\n",
    "plt.show()\n"
   ]
  },
  {
   "cell_type": "markdown",
   "id": "92cdb522",
   "metadata": {},
   "source": [
    "It seems to me that the optimal number of principal components is 3, since we will retain about 75% variance of the dataset by using these 3 principal components."
   ]
  },
  {
   "cell_type": "code",
   "execution_count": null,
   "id": "9a19772c",
   "metadata": {},
   "outputs": [],
   "source": [
    "loadings = pca.components_[0]\n",
    "loadings_df = pd.DataFrame(loadings, index=df_combined.columns, columns=['Loadings'])\n",
    "loadings_df"
   ]
  },
  {
   "cell_type": "code",
   "execution_count": null,
   "id": "c51dee89",
   "metadata": {},
   "outputs": [],
   "source": [
    "p_comps = loadings_df['Loadings'].abs().nlargest(3)\n",
    "p_comps"
   ]
  },
  {
   "cell_type": "code",
   "execution_count": null,
   "id": "f5371a45",
   "metadata": {},
   "outputs": [],
   "source": [
    "# Create new dataframe from principal components\n",
    "indexes = [*p_comps.index, 'quality']\n",
    "p_df = df_combined[indexes]\n",
    "p_df.sample(10)"
   ]
  },
  {
   "cell_type": "code",
   "execution_count": null,
   "id": "cbd23d7f",
   "metadata": {},
   "outputs": [],
   "source": []
  },
  {
   "cell_type": "code",
   "execution_count": null,
   "id": "24a9eaaf",
   "metadata": {},
   "outputs": [],
   "source": []
  }
 ],
 "metadata": {
  "kernelspec": {
   "display_name": "Python 3 (ipykernel)",
   "language": "python",
   "name": "python3"
  },
  "language_info": {
   "codemirror_mode": {
    "name": "ipython",
    "version": 3
   },
   "file_extension": ".py",
   "mimetype": "text/x-python",
   "name": "python",
   "nbconvert_exporter": "python",
   "pygments_lexer": "ipython3",
   "version": "3.11.5"
  }
 },
 "nbformat": 4,
 "nbformat_minor": 5
}
